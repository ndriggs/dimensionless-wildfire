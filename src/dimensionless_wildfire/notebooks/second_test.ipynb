{
 "cells": [
  {
   "cell_type": "code",
   "execution_count": 1,
   "metadata": {},
   "outputs": [],
   "source": [
    "from torch.utils.data import DataLoader\n",
    "from tfrecord.torch.dataset import TFRecordDataset\n",
    "import torch"
   ]
  },
  {
   "cell_type": "code",
   "execution_count": 3,
   "metadata": {},
   "outputs": [
    {
     "name": "stdout",
     "output_type": "stream",
     "text": [
      "dict_keys(['elevation', 'population', 'chili', 'impervious', 'fuel3', 'sph', 'fuel2', 'viirs_FireMask', 'fuel1', 'pdsi', 'water', 'NDVI', 'erc', 'th', 'viirs_PrevFireMask', 'pr', 'vs', 'tmmx', 'bi', 'tmmn'])\n",
      "torch.Size([32, 4096])\n"
     ]
    }
   ],
   "source": [
    "dataset = TFRecordDataset('../data/modified_ndws/train_conus_west_ndws_034.tfrecord', index_path=None)\n",
    "loader = DataLoader(dataset, batch_size=32)\n",
    "for data in loader : \n",
    "    print(data.keys())\n",
    "    print(data['elevation'].shape)\n",
    "    break"
   ]
  },
  {
   "cell_type": "code",
   "execution_count": 27,
   "metadata": {},
   "outputs": [
    {
     "name": "stdout",
     "output_type": "stream",
     "text": [
      "elevation torch.float32\n",
      "population torch.float32\n",
      "chili torch.float32\n",
      "impervious torch.float32\n",
      "fuel3 torch.float32\n",
      "sph torch.float32\n",
      "fuel2 torch.float32\n",
      "viirs_FireMask torch.float32\n",
      "fuel1 torch.float32\n",
      "pdsi torch.float32\n",
      "water torch.float32\n",
      "NDVI torch.float32\n",
      "erc torch.float32\n",
      "th torch.float32\n",
      "viirs_PrevFireMask torch.float32\n",
      "pr torch.float32\n",
      "vs torch.float32\n",
      "tmmx torch.float32\n",
      "bi torch.float32\n",
      "tmmn torch.float32\n"
     ]
    }
   ],
   "source": [
    "for key in data.keys() :\n",
    "    print(key, data[key].dtype)"
   ]
  },
  {
   "cell_type": "code",
   "execution_count": null,
   "metadata": {},
   "outputs": [],
   "source": []
  }
 ],
 "metadata": {
  "kernelspec": {
   "display_name": "fire_env",
   "language": "python",
   "name": "python3"
  },
  "language_info": {
   "codemirror_mode": {
    "name": "ipython",
    "version": 3
   },
   "file_extension": ".py",
   "mimetype": "text/x-python",
   "name": "python",
   "nbconvert_exporter": "python",
   "pygments_lexer": "ipython3",
   "version": "3.10.14"
  }
 },
 "nbformat": 4,
 "nbformat_minor": 2
}
