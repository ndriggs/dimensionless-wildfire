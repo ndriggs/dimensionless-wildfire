{
 "cells": [
  {
   "metadata": {},
   "cell_type": "markdown",
   "source": ""
  },
  {
   "metadata": {
    "ExecuteTime": {
     "end_time": "2024-10-12T18:15:46.260777Z",
     "start_time": "2024-10-12T18:15:44.253019Z"
    }
   },
   "cell_type": "code",
   "source": [
    "import dataloader_test as dlt\n",
    "\n",
    "\n",
    "train_files = [f'../data/modified_ndws/train_conus_west_ndws_0{i:02}.tfrecord' for i in range(39)]\n",
    "dataset = dlt.MultiTFRecordDataset(train_files)\n",
    "loader = dlt.DataLoader(dataset, batch_size=32)\n"
   ],
   "outputs": [],
   "execution_count": 1
  },
  {
   "metadata": {
    "ExecuteTime": {
     "end_time": "2024-10-12T18:16:48.057456Z",
     "start_time": "2024-10-12T18:15:46.265221Z"
    }
   },
   "cell_type": "code",
   "source": [
    "# Setup 1: ignore all problematic variables; that is, give them units that exclude them from the nullspace of the dimensional matrix\n",
    "from data import drop_prob_setup as setup\n",
    "\n",
    "dataset = dlt.NondimFireDataset(train_files, setup.units_, positive=setup.positive, constants=setup.constants)\n",
    "loader = dlt.DataLoader(dataset, batch_size=32)"
   ],
   "outputs": [],
   "execution_count": 2
  },
  {
   "metadata": {
    "ExecuteTime": {
     "end_time": "2024-10-12T18:16:48.281513Z",
     "start_time": "2024-10-12T18:16:48.200818Z"
    }
   },
   "cell_type": "code",
   "source": [
    "for batch, (x, y) in enumerate(loader):\n",
    "    print(batch, x.shape, y.shape)\n",
    "    break"
   ],
   "outputs": [
    {
     "name": "stdout",
     "output_type": "stream",
     "text": [
      "0 torch.Size([32, 9, 4096]) torch.Size([32, 4096])\n"
     ]
    }
   ],
   "execution_count": 3
  },
  {
   "metadata": {
    "ExecuteTime": {
     "end_time": "2024-10-12T18:18:29.591606Z",
     "start_time": "2024-10-12T18:16:48.363174Z"
    }
   },
   "cell_type": "code",
   "source": [
    "# Setup 2: include all problematic variables; that is, call them dimensionless to include them in the nullspace of the dimensional matrix\n",
    "from data import keep_prob_setup as setup\n",
    "\n",
    "dataset = dlt.NondimFireDataset(train_files, setup.units_, positive=setup.positive, constants=setup.constants)\n",
    "loader = dlt.DataLoader(dataset, batch_size=32)"
   ],
   "outputs": [],
   "execution_count": 4
  },
  {
   "metadata": {
    "ExecuteTime": {
     "end_time": "2024-10-12T18:18:30.257131Z",
     "start_time": "2024-10-12T18:18:29.603711Z"
    }
   },
   "cell_type": "code",
   "source": [
    "for batch, (x, y) in enumerate(loader):\n",
    "    print(batch, x.shape, y.shape)\n",
    "    break"
   ],
   "outputs": [
    {
     "name": "stdout",
     "output_type": "stream",
     "text": [
      "0 torch.Size([32, 16, 4096]) torch.Size([32, 4096])\n"
     ]
    }
   ],
   "execution_count": 5
  }
 ],
 "metadata": {
  "kernelspec": {
   "display_name": "fire_env",
   "language": "python",
   "name": "python3"
  },
  "language_info": {
   "codemirror_mode": {
    "name": "ipython",
    "version": 3
   },
   "file_extension": ".py",
   "mimetype": "text/x-python",
   "name": "python",
   "nbconvert_exporter": "python",
   "pygments_lexer": "ipython3",
   "version": "3.10.14"
  }
 },
 "nbformat": 4,
 "nbformat_minor": 2
}
