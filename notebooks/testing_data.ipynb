{
 "cells": [
  {
   "cell_type": "code",
   "execution_count": null,
   "metadata": {},
   "outputs": [],
   "source": [
    "from ..data.data_utils import get_dataset"
   ]
  },
  {
   "cell_type": "code",
   "execution_count": null,
   "metadata": {},
   "outputs": [],
   "source": [
    "train_dataset = get_dataset('../data/ndws/next_day_wildfire_spread_train*', \n",
    "    data_size=64, sample_size=32, batch_size=32,\n",
    "    num_in_channels=12, compression_type=None, clip_and_normalize=True,\n",
    "    clip_and_rescale=False, random_crop=True, center_crop=False)"
   ]
  }
 ],
 "metadata": {
  "language_info": {
   "name": "python"
  }
 },
 "nbformat": 4,
 "nbformat_minor": 2
}
