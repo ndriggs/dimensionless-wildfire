{
 "cells": [
  {
   "metadata": {},
   "cell_type": "markdown",
   "source": ""
  },
  {
   "metadata": {
    "ExecuteTime": {
     "end_time": "2024-10-12T02:34:23.767315Z",
     "start_time": "2024-10-12T02:34:23.763876Z"
    }
   },
   "cell_type": "code",
   "source": [
    "import dataloader_test as dlt\n",
    "\n",
    "\n",
    "train_files = [f'../data/modified_ndws/train_conus_west_ndws_0{i:02}.tfrecord' for i in range(39)]\n",
    "dataset = dlt.MultiTFRecordDataset(train_files)\n",
    "loader = dlt.DataLoader(dataset, batch_size=32)\n"
   ],
   "outputs": [],
   "execution_count": 3
  },
  {
   "metadata": {
    "ExecuteTime": {
     "end_time": "2024-10-12T02:33:32.807867Z",
     "start_time": "2024-10-12T02:32:05.478594Z"
    }
   },
   "cell_type": "code",
   "source": [
    "# Setup 1: ignore all problematic variables; that is, give them units that exclude them from the nullspace of the dimensional matrix\n",
    "from data import drop_prob_setup as setup\n",
    "\n",
    "dataset = dlt.NondimFireDataset(train_files, setup.units_, positive=setup.positive, constants=setup.constants)\n",
    "loader = dlt.DataLoader(dataset, batch_size=32)"
   ],
   "outputs": [],
   "execution_count": 2
  },
  {
   "metadata": {
    "ExecuteTime": {
     "end_time": "2024-10-12T02:57:55.156626Z",
     "start_time": "2024-10-12T02:56:17.220876Z"
    }
   },
   "cell_type": "code",
   "source": [
    "# Setup 2: include all problematic variables; that is, call them dimensionless to include them in the nullspace of the dimensional matrix\n",
    "from data import keep_prob_setup as setup\n",
    "\n",
    "dataset = dlt.NondimFireDataset(train_files, setup.units_, positive=setup.positive, constants=setup.constants)\n",
    "loader = dlt.DataLoader(dataset, batch_size=32)"
   ],
   "outputs": [],
   "execution_count": 7
  }
 ],
 "metadata": {
  "kernelspec": {
   "display_name": "fire_env",
   "language": "python",
   "name": "python3"
  },
  "language_info": {
   "codemirror_mode": {
    "name": "ipython",
    "version": 3
   },
   "file_extension": ".py",
   "mimetype": "text/x-python",
   "name": "python",
   "nbconvert_exporter": "python",
   "pygments_lexer": "ipython3",
   "version": "3.10.14"
  }
 },
 "nbformat": 4,
 "nbformat_minor": 2
}
