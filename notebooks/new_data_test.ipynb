{
 "cells": [
  {
   "metadata": {},
   "cell_type": "markdown",
   "source": ""
  },
  {
   "metadata": {
    "ExecuteTime": {
     "end_time": "2024-10-11T19:38:31.578837Z",
     "start_time": "2024-10-11T19:38:29.472504Z"
    }
   },
   "cell_type": "code",
   "source": [
    "import dataloader_test as dlt\n",
    "\n",
    "\n",
    "train_files = [f'../data/modified_ndws/train_conus_west_ndws_0{i:02}.tfrecord' for i in range(39)]\n",
    "dataset = dlt.MultiTFRecordDataset(train_files)\n",
    "loader = dlt.DataLoader(dataset, batch_size=32)\n"
   ],
   "outputs": [],
   "execution_count": 1
  },
  {
   "metadata": {
    "ExecuteTime": {
     "end_time": "2024-10-11T19:38:32.586450Z",
     "start_time": "2024-10-11T19:38:31.591216Z"
    }
   },
   "cell_type": "code",
   "source": [
    "from sympy.physics import units\n",
    "\n",
    "\n",
    "length = units.Dimension(\"length\")\n",
    "population = units.Dimension(\"population\")\n",
    "time = units.Dimension(\"time\")\n",
    "velocity = length/time\n",
    "mass = units.Dimension(\"mass\")\n",
    "energy = mass * velocity**2\n",
    "unit = units.Dimension(1)\n",
    "density = 1/length**2\n",
    "temperature = units.Dimension(\"temperature\")\n",
    "\n",
    "units_ = {\n",
    "    'elevation': length,\n",
    "    'population': population*density,\n",
    "    'chili': unit,\n",
    "    'pdsi': unit,\n",
    "    'NDVI': unit,\n",
    "    'viirs_FireMask': unit,\n",
    "    'viirs_PrevFireMask': unit,\n",
    "    'fuel1': unit,\n",
    "    'fuel2': unit,\n",
    "    'fuel3': unit,\n",
    "    'water': unit,\n",
    "    'impervious': unit,\n",
    "    'erc': energy*density,  # energy release component\n",
    "    'sph': unit,  # humidity\n",
    "    'th': unit,  # wind direction\n",
    "    'pr': unit, # precipitation\n",
    "    'vs': velocity,  # wind speed\n",
    "    'bi': unit,   # burning index\n",
    "    'tmmx': temperature,\n",
    "    'tmmn': temperature,\n",
    "    'boltzmann': energy/temperature\n",
    "}\n",
    "\n",
    "\n",
    "dataset = dlt.NondimFireDataset(train_files, units_, positive=[\"elevation\", \"population\", \"vs\"], constants={\"boltzmann\": 1})\n",
    "loader = dlt.DataLoader(dataset, batch_size=32)"
   ],
   "outputs": [],
   "execution_count": 2
  },
  {
   "metadata": {
    "ExecuteTime": {
     "end_time": "2024-10-11T19:38:35.180878Z",
     "start_time": "2024-10-11T19:38:35.028229Z"
    }
   },
   "cell_type": "code",
   "source": [
    "import numpy as np\n",
    "\n",
    "found = None\n",
    "for batch in dataset:\n",
    "    if np.isnan(batch).sum() > 0:\n",
    "        found = batch\n",
    "        break\n",
    "        \n",
    "thing = None\n",
    "print(found.shape)\n",
    "for i, var in enumerate(found):\n",
    "    if np.isnan(var).sum() > 0:\n",
    "        thing = dataset.cols[i]"
   ],
   "outputs": [
    {
     "ename": "AttributeError",
     "evalue": "'NoneType' object has no attribute 'shape'",
     "output_type": "error",
     "traceback": [
      "\u001B[0;31m---------------------------------------------------------------------------\u001B[0m",
      "\u001B[0;31mAttributeError\u001B[0m                            Traceback (most recent call last)",
      "Cell \u001B[0;32mIn[3], line 10\u001B[0m\n\u001B[1;32m      7\u001B[0m         \u001B[38;5;28;01mbreak\u001B[39;00m\n\u001B[1;32m      9\u001B[0m thing \u001B[38;5;241m=\u001B[39m \u001B[38;5;28;01mNone\u001B[39;00m\n\u001B[0;32m---> 10\u001B[0m \u001B[38;5;28mprint\u001B[39m(\u001B[43mfound\u001B[49m\u001B[38;5;241;43m.\u001B[39;49m\u001B[43mshape\u001B[49m)\n\u001B[1;32m     11\u001B[0m \u001B[38;5;28;01mfor\u001B[39;00m i, var \u001B[38;5;129;01min\u001B[39;00m \u001B[38;5;28menumerate\u001B[39m(found):\n\u001B[1;32m     12\u001B[0m     \u001B[38;5;28;01mif\u001B[39;00m np\u001B[38;5;241m.\u001B[39misnan(var)\u001B[38;5;241m.\u001B[39msum() \u001B[38;5;241m>\u001B[39m \u001B[38;5;241m0\u001B[39m:\n",
      "\u001B[0;31mAttributeError\u001B[0m: 'NoneType' object has no attribute 'shape'"
     ]
    }
   ],
   "execution_count": 3
  },
  {
   "metadata": {
    "ExecuteTime": {
     "end_time": "2024-10-11T19:40:41.692660Z",
     "start_time": "2024-10-11T19:40:41.620683Z"
    }
   },
   "cell_type": "code",
   "source": [
    "for batch in loader:\n",
    "    print(batch.shape)"
   ],
   "outputs": [
    {
     "name": "stdout",
     "output_type": "stream",
     "text": [
      "torch.Size([32, 16, 4096])\n",
      "torch.Size([7, 16, 4096])\n"
     ]
    }
   ],
   "execution_count": 8
  },
  {
   "metadata": {
    "ExecuteTime": {
     "end_time": "2024-10-11T19:02:08.293496Z",
     "start_time": "2024-10-11T19:02:08.287677Z"
    }
   },
   "cell_type": "code",
   "source": "np.where((dataset.nondims < 0).sum(axis=0))",
   "outputs": [
    {
     "data": {
      "text/plain": [
       "(array([12, 18]),)"
      ]
     },
     "execution_count": 20,
     "metadata": {},
     "output_type": "execute_result"
    }
   ],
   "execution_count": 20
  },
  {
   "metadata": {
    "ExecuteTime": {
     "end_time": "2024-10-11T19:00:08.886566Z",
     "start_time": "2024-10-11T19:00:08.878674Z"
    }
   },
   "cell_type": "code",
   "source": "0.**0",
   "outputs": [
    {
     "data": {
      "text/plain": [
       "1.0"
      ]
     },
     "execution_count": 15,
     "metadata": {},
     "output_type": "execute_result"
    }
   ],
   "execution_count": 15
  },
  {
   "metadata": {
    "ExecuteTime": {
     "end_time": "2024-10-11T19:29:23.398539Z",
     "start_time": "2024-10-11T19:29:23.389407Z"
    }
   },
   "cell_type": "code",
   "source": [
    "from data import nondim\n",
    "from sympy.physics import units\n",
    "import numpy as np\n",
    "\n",
    "x = [{\"force\": np.array([[1, 2, 3]]), \n",
    "      \"mass\": np.array([[1, 2, 1]]),\n",
    "      \"acceleration\": np.array([[1, 1, 3]]), \n",
    "      \"time\": np.array([[1, 2, 3]])}, \n",
    "     \n",
    "     {\"force\": np.array([[-1, 2, 3]]), \n",
    "      \"mass\": np.array([[1, 2, 1]]),\n",
    "      \"acceleration\": np.array([[-1, 1, 3]]), \n",
    "      \"time\": np.array([[1, 2, 3]])}]\n",
    "\n",
    "units_ = {\n",
    "    \"force\": units.Dimension(\"mass\") * units.Dimension(\"length\") / units.Dimension(\"time\")**2,\n",
    "    \"mass\": units.Dimension(\"mass\"),\n",
    "    \"acceleration\": units.Dimension(\"length\") / units.Dimension(\"time\")**2,\n",
    "    \"time\": units.Dimension(\"mass\") / units.Dimension(\"length\") * units.Dimension(\"time\")**2\n",
    "}\n",
    "\n",
    "\n",
    "nondims, cols, rows = nondim.dimensionless_vars(units_)\n",
    "nondims = np.array(nondims).astype(float).squeeze()\n",
    "print(nondims)\n",
    "non_dim = []\n",
    "for i, batch in enumerate(x):\n",
    "    # make data into shape (1, vars, batch, dim) and nondims into shape (nondim, vars, 1, 1), then broadcast and product out the vars dimension.\n",
    "    # FIXME: remove the string \"elevation\" from the below.\n",
    "    data = np.expand_dims(np.array([batch[key] for key in cols]), 0)\n",
    "    print(data, np.expand_dims(nondims, (2,3)))\n",
    "    non_dim.append( (data ** np.expand_dims(nondims, (2,3))).prod(axis=1) )\n",
    "\n",
    "non_dim\n"
   ],
   "outputs": [
    {
     "name": "stdout",
     "output_type": "stream",
     "text": [
      "[[-1.  1.  1.  0.]\n",
      " [ 1. -2.  0.  1.]]\n",
      "[[[[1 2 3]]\n",
      "\n",
      "  [[1 2 1]]\n",
      "\n",
      "  [[1 1 3]]\n",
      "\n",
      "  [[1 2 3]]]] [[[[-1.]]\n",
      "\n",
      "  [[ 1.]]\n",
      "\n",
      "  [[ 1.]]\n",
      "\n",
      "  [[ 0.]]]\n",
      "\n",
      "\n",
      " [[[ 1.]]\n",
      "\n",
      "  [[-2.]]\n",
      "\n",
      "  [[ 0.]]\n",
      "\n",
      "  [[ 1.]]]]\n",
      "[[[[-1  2  3]]\n",
      "\n",
      "  [[ 1  2  1]]\n",
      "\n",
      "  [[-1  1  3]]\n",
      "\n",
      "  [[ 1  2  3]]]] [[[[-1.]]\n",
      "\n",
      "  [[ 1.]]\n",
      "\n",
      "  [[ 1.]]\n",
      "\n",
      "  [[ 0.]]]\n",
      "\n",
      "\n",
      " [[[ 1.]]\n",
      "\n",
      "  [[-2.]]\n",
      "\n",
      "  [[ 0.]]\n",
      "\n",
      "  [[ 1.]]]]\n"
     ]
    },
    {
     "data": {
      "text/plain": [
       "[array([[[1., 1., 1.]],\n",
       " \n",
       "        [[1., 1., 9.]]]),\n",
       " array([[[ 1.,  1.,  1.]],\n",
       " \n",
       "        [[-1.,  1.,  9.]]])]"
      ]
     },
     "execution_count": 15,
     "metadata": {},
     "output_type": "execute_result"
    }
   ],
   "execution_count": 15
  },
  {
   "metadata": {},
   "cell_type": "code",
   "outputs": [],
   "execution_count": null,
   "source": ""
  }
 ],
 "metadata": {
  "kernelspec": {
   "display_name": "fire_env",
   "language": "python",
   "name": "python3"
  },
  "language_info": {
   "codemirror_mode": {
    "name": "ipython",
    "version": 3
   },
   "file_extension": ".py",
   "mimetype": "text/x-python",
   "name": "python",
   "nbconvert_exporter": "python",
   "pygments_lexer": "ipython3",
   "version": "3.10.14"
  }
 },
 "nbformat": 4,
 "nbformat_minor": 2
}
