{
 "cells": [
  {
   "metadata": {},
   "cell_type": "markdown",
   "source": ""
  },
  {
   "metadata": {
    "ExecuteTime": {
     "end_time": "2024-10-10T22:08:58.587370Z",
     "start_time": "2024-10-10T22:08:56.222669Z"
    }
   },
   "cell_type": "code",
   "source": [
    "import dataloader_test as dlt\n",
    "\n",
    "train_files = [f'../data/modified_ndws/train_conus_west_ndws_0{i:02}.tfrecord' for i in range(39)]\n",
    "dataset = dlt.MultiTFRecordDataset(train_files)\n",
    "loader = dlt.DataLoader(dataset, batch_size=32)\n"
   ],
   "outputs": [],
   "execution_count": 1
  },
  {
   "metadata": {
    "ExecuteTime": {
     "end_time": "2024-10-10T22:09:28.316853Z",
     "start_time": "2024-10-10T22:09:26.120705Z"
    }
   },
   "cell_type": "code",
   "source": [
    "for i, batch in enumerate(loader):\n",
    "    print(batch['elevation'].size())\n",
    "    if i > 10:\n",
    "        break"
   ],
   "outputs": [
    {
     "name": "stdout",
     "output_type": "stream",
     "text": [
      "torch.Size([32, 4096])\n",
      "torch.Size([32, 4096])\n",
      "torch.Size([32, 4096])\n",
      "torch.Size([32, 4096])\n",
      "torch.Size([32, 4096])\n",
      "torch.Size([32, 4096])\n",
      "torch.Size([32, 4096])\n",
      "torch.Size([32, 4096])\n",
      "torch.Size([32, 4096])\n",
      "torch.Size([32, 4096])\n",
      "torch.Size([32, 4096])\n",
      "torch.Size([32, 4096])\n"
     ]
    }
   ],
   "execution_count": 4
  },
  {
   "metadata": {
    "ExecuteTime": {
     "end_time": "2024-10-10T22:20:38.512663Z",
     "start_time": "2024-10-10T22:20:38.502585Z"
    }
   },
   "cell_type": "code",
   "source": [
    "from sympy.physics import units\n",
    "\n",
    "\n",
    "length = units.Dimension(\"length\")\n",
    "population = units.Dimension(\"population\")\n",
    "time = units.Dimension(\"time\")\n",
    "velocity = length/time\n",
    "mass = units.Dimension(\"mass\")\n",
    "energy = mass * velocity**2\n",
    "unit = units.Dimension(1)\n",
    "density = 1/length**2\n",
    "temperature = units.Dimension(\"temperature\")\n",
    "\n",
    "units = {\n",
    "    'elevation': length,\n",
    "    'population': population*density,\n",
    "    'chili': unit,\n",
    "    'pdsi': unit,\n",
    "    'NDVI': unit,\n",
    "    'viirs_FireMask': unit,\n",
    "    'viirs_PrevFireMask': unit,\n",
    "    'fuel1': unit,\n",
    "    'fuel2': unit,\n",
    "    'fuel3': unit,\n",
    "    'water': unit,\n",
    "    'impervious': unit,\n",
    "    'erc': energy*density,  # energy release component\n",
    "    'sph': unit,  # humidity\n",
    "    'th': unit,  # wind direction\n",
    "    'pr': unit, # precipitation\n",
    "    'vs': velocity,  # wind speed\n",
    "    'bi': unit,   # burning index\n",
    "    'tmmx': temperature,\n",
    "    'tmmn': temperature,\n",
    "    'boltzmann': energy/temperature\n",
    "}\n",
    "\n",
    "\n",
    "dataset = dlt.NondimFireDataset(train_files, units)\n",
    "loader = dlt.DataLoader(dataset, batch_size=32)"
   ],
   "outputs": [],
   "execution_count": 5
  },
  {
   "metadata": {
    "ExecuteTime": {
     "end_time": "2024-10-10T22:21:24.613819Z",
     "start_time": "2024-10-10T22:21:24.610291Z"
    }
   },
   "cell_type": "code",
   "source": "",
   "outputs": [
    {
     "data": {
      "text/plain": [
       "(16, 21, 1)"
      ]
     },
     "execution_count": 8,
     "metadata": {},
     "output_type": "execute_result"
    }
   ],
   "execution_count": 8
  }
 ],
 "metadata": {
  "kernelspec": {
   "display_name": "fire_env",
   "language": "python",
   "name": "python3"
  },
  "language_info": {
   "codemirror_mode": {
    "name": "ipython",
    "version": 3
   },
   "file_extension": ".py",
   "mimetype": "text/x-python",
   "name": "python",
   "nbconvert_exporter": "python",
   "pygments_lexer": "ipython3",
   "version": "3.10.14"
  }
 },
 "nbformat": 4,
 "nbformat_minor": 2
}
